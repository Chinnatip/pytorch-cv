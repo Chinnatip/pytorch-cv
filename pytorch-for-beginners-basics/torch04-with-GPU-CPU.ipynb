{
 "cells": [
  {
   "cell_type": "code",
   "execution_count": 6,
   "metadata": {},
   "outputs": [],
   "source": [
    "import torch"
   ]
  },
  {
   "cell_type": "code",
   "execution_count": 7,
   "metadata": {},
   "outputs": [],
   "source": [
    "# Create a tensor for CPU\n",
    "# This will occupy CPU RAM\n",
    "tensor_cpu = torch.tensor([[1.0, 2.0], [3.0, 4.0], [5.0, 6.0]], device='cpu')"
   ]
  },
  {
   "cell_type": "code",
   "execution_count": 8,
   "metadata": {},
   "outputs": [],
   "source": [
    "# Create a tensor for GPU \n",
    "#### OSX didn't support GPU ###\n",
    "# This will occupy GPU RAM\n",
    "# tensor_gpu = torch.tensor([[1.0, 2.0], [3.0, 4.0], [5.0, 6.0]], device='cuda')"
   ]
  },
  {
   "cell_type": "code",
   "execution_count": 9,
   "metadata": {},
   "outputs": [],
   "source": [
    "# This uses CPU RAM\n",
    "tensor_cpu = tensor_cpu * 5\n",
    " \n",
    "# This uses GPU RAM\n",
    "# Focus on GPU RAM Consumption\n",
    "# tensor_gpu = tensor_gpu * 5"
   ]
  },
  {
   "cell_type": "code",
   "execution_count": null,
   "metadata": {},
   "outputs": [],
   "source": [
    "# The key point to note here is that no information flows to CPU in\n",
    "# the GPU tensor operations (except if we print or access the tensor).\n",
    "# We can move the GPU tensor to CPU and vice versa as shown below.\n",
    "\n",
    "# Move GPU tensor to CPU\n",
    "# tensor_gpu_cpu = tensor_gpu.to(device='cpu')\n",
    " \n",
    "# Move CPU tensor to GPU\n",
    "# tensor_cpu_gpu = tensor_cpu.to(device='cuda')"
   ]
  }
 ],
 "metadata": {
  "kernelspec": {
   "display_name": "Python 3",
   "language": "python",
   "name": "python3"
  },
  "language_info": {
   "codemirror_mode": {
    "name": "ipython",
    "version": 3
   },
   "file_extension": ".py",
   "mimetype": "text/x-python",
   "name": "python",
   "nbconvert_exporter": "python",
   "pygments_lexer": "ipython3",
   "version": "3.7.3"
  }
 },
 "nbformat": 4,
 "nbformat_minor": 2
}
